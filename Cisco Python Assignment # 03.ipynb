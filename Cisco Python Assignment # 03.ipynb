{
 "cells": [
  {
   "cell_type": "raw",
   "metadata": {},
   "source": [
    "Make a calculator using Python with addition , subtraction , multiplication ,\n",
    "division and power."
   ]
  },
  {
   "cell_type": "code",
   "execution_count": 9,
   "metadata": {
    "scrolled": true
   },
   "outputs": [
    {
     "name": "stdout",
     "output_type": "stream",
     "text": [
      "******Welcome to our calculator******\n",
      " Before we proceed further lets be familiar with the user commands : \n",
      " \tAdd = 1 \t\tSubtract = 2\t\t Multiply = 3\n",
      "\tDivide = 4\tPower = 5\n",
      "Please enter number to corespond to operation you want to perform : 5\n",
      "Let's Power a number\n",
      "Enter a number : 20\n",
      "enter the power to  to be applied on number you entered : 2\n",
      "your answer is 400\n"
     ]
    }
   ],
   "source": [
    "user=6\n",
    "print('******Welcome to our calculator******\\n Before we proceed further lets be familiar with the user commands : \\n \\tAdd = 1 \\t\\tSubtract = 2\\t\\t Multiply = 3\\n\\tDivide = 4\\tPower = 5')\n",
    "while user>5:\n",
    "    user=int(input(\"Please enter number to corespond to operation you want to perform : \"))\n",
    "operation=user\n",
    "if operation==1:\n",
    "    print(\"Lets add two numbers\")\n",
    "    num1=int(input(\"enter first number : \"))\n",
    "    num2=int(input(\"please enter other number as well : \"))\n",
    "    add=(num1 +num2)\n",
    "    print(f\"Your answer is {add}\")\n",
    "elif operation==2:\n",
    "    print(\"Lets Subtact two numbers\")\n",
    "    num1=int(input(\"enter first number : \"))\n",
    "    num2=int(input(\"please enter other number as well : \"))\n",
    "    sub=num1-num2\n",
    "    print(f\"Your answer is {sub}\")\n",
    "elif operation==3:\n",
    "    print(\"Lets Multiplty two numbers\")\n",
    "    num1=int(input(\"enter first number : \"))\n",
    "    num2=int(input(\"please enter other number as well : \"))\n",
    "    mul=(num1*num2)\n",
    "    print(f\"Your answer is {mul}\")\n",
    "elif operation==4:\n",
    "    print(\"Lets Divide two numbers\")\n",
    "    num1=int(input(\"enter first number :\"))\n",
    "    num2-int(input(\"enter other number as well :\"))\n",
    "    div=num1 / num2\n",
    "    print(f\"Your answer is {div}\")\n",
    "elif operation==5:\n",
    "    print(\"Let's Power a number\")\n",
    "    num1=int(input(\"Enter a number : \"))\n",
    "    num2=int(input(\"enter the power to  to be applied on number you entered : \"))\n",
    "    po=num1**num2\n",
    "    print(f\"your answer is {po}\")"
   ]
  },
  {
   "cell_type": "markdown",
   "metadata": {},
   "source": [
    "#### 2. Write a program to check if there is any numeric value in list using for loop"
   ]
  },
  {
   "cell_type": "code",
   "execution_count": 10,
   "metadata": {},
   "outputs": [
    {
     "name": "stdout",
     "output_type": "stream",
     "text": [
      "34\n",
      "79\n",
      "50\n"
     ]
    }
   ],
   "source": [
    "l1 = [\"ahmed \",34,\"raza\",\"79\",50]\n",
    "for e in l1:\n",
    "    a=str(e)\n",
    "    if a.isnumeric()==True:\n",
    "        print(a)"
   ]
  },
  {
   "cell_type": "raw",
   "metadata": {},
   "source": [
    "3. Write a Python script to add a key to a dictionary"
   ]
  },
  {
   "cell_type": "code",
   "execution_count": 11,
   "metadata": {},
   "outputs": [
    {
     "name": "stdout",
     "output_type": "stream",
     "text": [
      "please enter the key to include in your dictionryname\n",
      "please enter the value to include in your dictionaryahmed\n",
      "{'name': 'ahmed'}\n"
     ]
    }
   ],
   "source": [
    "d1={}\n",
    "\n",
    "key=input(\"please enter the key to include in your dictionry\")\n",
    "value=input(\"please enter the value to include in your dictionary\")\n",
    "d1[key]=value\n",
    "print(d1)"
   ]
  },
  {
   "cell_type": "raw",
   "metadata": {},
   "source": [
    "4. Write a Python program to sum all the numeric items in a dictionary"
   ]
  },
  {
   "cell_type": "code",
   "execution_count": 12,
   "metadata": {},
   "outputs": [
    {
     "name": "stdout",
     "output_type": "stream",
     "text": [
      "125\n"
     ]
    }
   ],
   "source": [
    "add=0\n",
    "D2 ={\"name\":\"ahmed\",\"rollno\":123,\"quarter\":2,\"course\":\"AI\"}\n",
    "for e in D2.values():\n",
    "    a=str(e)\n",
    "    if a.isnumeric()==True:\n",
    "        add=add+e \n",
    "print(add)"
   ]
  },
  {
   "cell_type": "raw",
   "metadata": {},
   "source": [
    "5. Write a program to identify duplicate values from list"
   ]
  },
  {
   "cell_type": "code",
   "execution_count": 80,
   "metadata": {},
   "outputs": [
    {
     "name": "stdout",
     "output_type": "stream",
     "text": [
      "['ahmed', 123, 'raza', 789]\n"
     ]
    }
   ],
   "source": [
    "l3=[]\n",
    "l2=[\"ahmed\",123,\"raza\",123,\"ahmed\",789,123]\n",
    "for l in l2:\n",
    "    if l not in l3:\n",
    "        l3.append(l)\n",
    "print(l3)    "
   ]
  },
  {
   "cell_type": "raw",
   "metadata": {},
   "source": [
    "6. Write a Python script to check if a given key already exists in a dictionary "
   ]
  },
  {
   "cell_type": "code",
   "execution_count": 13,
   "metadata": {},
   "outputs": [
    {
     "name": "stdout",
     "output_type": "stream",
     "text": [
      "it already exists\n"
     ]
    }
   ],
   "source": [
    "key=\"name\"\n",
    "D2={\"name\":\"ahmed\",\"rollno\":1234}\n",
    "if key not in D2:\n",
    "    print(\"its a unique key\")\n",
    "else:\n",
    "    print(\"it already exists\")"
   ]
  },
  {
   "cell_type": "code",
   "execution_count": null,
   "metadata": {},
   "outputs": [],
   "source": []
  }
 ],
 "metadata": {
  "kernelspec": {
   "display_name": "Python 3",
   "language": "python",
   "name": "python3"
  },
  "language_info": {
   "codemirror_mode": {
    "name": "ipython",
    "version": 3
   },
   "file_extension": ".py",
   "mimetype": "text/x-python",
   "name": "python",
   "nbconvert_exporter": "python",
   "pygments_lexer": "ipython3",
   "version": "3.7.3"
  }
 },
 "nbformat": 4,
 "nbformat_minor": 2
}
