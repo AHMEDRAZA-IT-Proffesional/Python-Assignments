{
 "cells": [
  {
   "cell_type": "raw",
   "metadata": {},
   "source": [
    "1. Write a program which takes 5 inputs from user for different subject’s\n",
    "marks, total it and generate mark sheet using grades ?"
   ]
  },
  {
   "cell_type": "code",
   "execution_count": 13,
   "metadata": {},
   "outputs": [
    {
     "name": "stdout",
     "output_type": "stream",
     "text": [
      "Please enter your  English marks34\n",
      "Please enter your  Urdu  marks44\n",
      "Please enter your  Math's marks44\n",
      "Please enter your Physics marks 78\n",
      "Please enter your Computer marks 99\n",
      "Your Percentage is 73.66666666666667\n",
      "B Grade\n"
     ]
    }
   ],
   "source": [
    "English_Marks=int(input(\"Please enter your  English marks: \"))\n",
    "\n",
    "Urdu_Marks=int(input(\"Please enter your  Urdu  marks:\"))\n",
    "Maths_Marks=int(input(\"Please enter your  Math's marks: \"))\n",
    "Physics_Marks=int(input('Please enter your Physics marks:  '))\n",
    "Comp_Marks=int(input(\"Please enter your Computer marks: \"))\n",
    "Total_Marks=Physics_Marks+Maths_Marks+Comp_Marks\n",
    "Percentage = Total_Marks /300*100\n",
    "print(f\"Your Percentage is {Percentage}\")\n",
    "if Percentage >90:\n",
    "    print(\" A* Grade\")\n",
    "elif Percentage>80 and Percentage<=90:\n",
    "    print(\"A Grade\")\n",
    "elif Percentage>70 and Percentage<=80:\n",
    "    print(\"B Grade\")\n",
    "elif Percentage>60  and Percentage<=70:\n",
    "    print(\"C Grade\")\n",
    "elif Percentage>50 and Percentage<=60:\n",
    "    print(\"D Grade\")\n",
    "elif Percentage<=50:\n",
    "    print(\"Fail unfortunately\")"
   ]
  },
  {
   "cell_type": "raw",
   "metadata": {},
   "source": [
    "2. Write a program which take input from user and identify that the given\n",
    "number is even or odd?"
   ]
  },
  {
   "cell_type": "code",
   "execution_count": 15,
   "metadata": {},
   "outputs": [
    {
     "name": "stdout",
     "output_type": "stream",
     "text": [
      "Please enter a positive number :23\n",
      "Its a odd number\n"
     ]
    }
   ],
   "source": [
    "number=0 #integer\n",
    "number=int(input(\"Please enter a positive number :\"))\n",
    "if number %2==0:\n",
    "    print(\"Its a even number\")\n",
    "else:\n",
    "    print(\"Its a odd number\")"
   ]
  },
  {
   "cell_type": "raw",
   "metadata": {},
   "source": [
    "3. Write a program which print the length of the list?"
   ]
  },
  {
   "cell_type": "code",
   "execution_count": 16,
   "metadata": {},
   "outputs": [
    {
     "data": {
      "text/plain": [
       "6"
      ]
     },
     "execution_count": 16,
     "metadata": {},
     "output_type": "execute_result"
    }
   ],
   "source": [
    "l1=[1,34,67,99,9999,234]\n",
    "len(l1)"
   ]
  },
  {
   "cell_type": "raw",
   "metadata": {},
   "source": [
    "4. Write a Python program to sum all the numeric items in a list?"
   ]
  },
  {
   "cell_type": "code",
   "execution_count": 19,
   "metadata": {},
   "outputs": [
    {
     "data": {
      "text/plain": [
       "267"
      ]
     },
     "execution_count": 19,
     "metadata": {},
     "output_type": "execute_result"
    }
   ],
   "source": [
    "l2=[1,34,67,89,76]\n",
    "Sum=0\n",
    "for i in l2:\n",
    "    Sum=i+Sum\n",
    "Sum"
   ]
  },
  {
   "cell_type": "raw",
   "metadata": {},
   "source": [
    "5. Write a Python program to get the largest number from a numeric list"
   ]
  },
  {
   "cell_type": "code",
   "execution_count": 22,
   "metadata": {},
   "outputs": [
    {
     "name": "stdout",
     "output_type": "stream",
     "text": [
      "567\n"
     ]
    }
   ],
   "source": [
    "l3=[23,57,89,34,567,86]\n",
    "largest=0\n",
    "for e in l3:\n",
    "    if e>largest:\n",
    "        largest=e\n",
    "print(largest)"
   ]
  },
  {
   "cell_type": "code",
   "execution_count": null,
   "metadata": {},
   "outputs": [],
   "source": [
    "6. Take a list, say for example this one:\n",
    " a = [1, 1, 2, 3, 5, 8, 13, 21, 34, 55, 89]\n",
    "and write a program that prints out all the elements of the list that are\n",
    "less than 5."
   ]
  },
  {
   "cell_type": "code",
   "execution_count": 47,
   "metadata": {},
   "outputs": [
    {
     "name": "stdout",
     "output_type": "stream",
     "text": [
      "[1, 2, 3, 4]\n"
     ]
    }
   ],
   "source": [
    "l4=[]\n",
    "a=[1, 2, 3, 5, 8, 13, 21, 4, 55, 8]\n",
    "for x in a:\n",
    "    if x<5:\n",
    "        l4.append(x)\n",
    "    else:\n",
    "        pass\n",
    "        \n",
    "print(l4)"
   ]
  },
  {
   "cell_type": "code",
   "execution_count": null,
   "metadata": {},
   "outputs": [],
   "source": []
  },
  {
   "cell_type": "code",
   "execution_count": null,
   "metadata": {},
   "outputs": [],
   "source": []
  }
 ],
 "metadata": {
  "kernelspec": {
   "display_name": "Python 3",
   "language": "python",
   "name": "python3"
  },
  "language_info": {
   "codemirror_mode": {
    "name": "ipython",
    "version": 3
   },
   "file_extension": ".py",
   "mimetype": "text/x-python",
   "name": "python",
   "nbconvert_exporter": "python",
   "pygments_lexer": "ipython3",
   "version": "3.7.3"
  }
 },
 "nbformat": 4,
 "nbformat_minor": 2
}
