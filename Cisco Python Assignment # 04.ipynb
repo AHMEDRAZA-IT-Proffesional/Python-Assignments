{
 "cells": [
  {
   "cell_type": "raw",
   "metadata": {},
   "source": [
    "1:Use a dictionary to store information about a person you know. Store their first name, last name, age,\n",
    "and the city in which they live. You should have keys such as first_name, last_name, age, and city. Print\n",
    "each piece of information stored in your dictionary. Add a new key value pair about qualification then\n",
    "update the qualification value to high academic level then delete it."
   ]
  },
  {
   "cell_type": "code",
   "execution_count": 9,
   "metadata": {},
   "outputs": [
    {
     "name": "stdout",
     "output_type": "stream",
     "text": [
      "Ahmed\n",
      "Raza\n",
      "20\n",
      "Karachi\n",
      "{'First_name': 'Ahmed', 'Last_name': 'Raza', 'Age': 20, 'City': 'Karachi', 'Qualification': 'Matric'}\n",
      "{'First_name': 'Ahmed', 'Last_name': 'Raza', 'Age': 20, 'City': 'Karachi', 'Qualification': 'High level '}\n"
     ]
    },
    {
     "data": {
      "text/plain": [
       "{'First_name': 'Ahmed', 'Last_name': 'Raza', 'Age': 20, 'City': 'Karachi'}"
      ]
     },
     "execution_count": 9,
     "metadata": {},
     "output_type": "execute_result"
    }
   ],
   "source": [
    "Dic1 = {\"First_name\":\"Ahmed\",\"Last_name\":\"Raza\",\"Age\":20,\"City\":\"Karachi\"}\n",
    "for e in Dic1.values():\n",
    "    print(e)\n",
    "Dic1[\"Qualification\"]=\"Matric\"\n",
    "print(Dic1)\n",
    "Dic2 = {\"Qualification\":\"High level \"}\n",
    "Dic1.update(Dic2)\n",
    "print(Dic1)\n",
    "Dic1.pop(\"Qualification\")\n",
    "Dic1"
   ]
  },
  {
   "cell_type": "raw",
   "metadata": {},
   "source": [
    "2:Make a dictionary called cities. Use the names of three cities as keys in your dictionary. Create a\n",
    "dictionary of information about each city and include the country that the city is in, its approximate\n",
    "population, and one fact about that city. The keys for each city’s dictionary should be something like\n",
    "country, population, and fact. Print the name of each city and all of the information you have stored\n",
    "about it."
   ]
  },
  {
   "cell_type": "code",
   "execution_count": 10,
   "metadata": {},
   "outputs": [],
   "source": [
    "Cities = {\"Karachi\":{\"country\":\"Pakistan\",\"Population\":\"25 Million\",\"Fact\":\"One of the most populated cities in the in the world\"},\"Sialkot\":{\"Country\":\"Pakistan\",\"Population\":\"5 Million\",\"Fact\":\"Its is famous for its excelence in sports equipment manufacturing in the whole world\"},\"Hunza\":{\"Country\":\"Pakistan\",\"Population\":\"Nominal\",\"Fact\":\"Its is one the beautiful cities/places in the world\"}}"
   ]
  },
  {
   "cell_type": "code",
   "execution_count": 11,
   "metadata": {},
   "outputs": [
    {
     "name": "stdout",
     "output_type": "stream",
     "text": [
      "Karachi {'country': 'Pakistan', 'Population': '25 Million', 'Fact': 'One of the most populated cities in the in the world'}\n",
      "Sialkot {'Country': 'Pakistan', 'Population': '5 Million', 'Fact': 'Its is famous for its excelence in sports equipment manufacturing in the whole world'}\n",
      "Hunza {'Country': 'Pakistan', 'Population': 'Nominal', 'Fact': 'Its is one the beautiful cities/places in the world'}\n"
     ]
    }
   ],
   "source": [
    "for a ,e in Cities.items():\n",
    "    print(a,e)"
   ]
  },
  {
   "cell_type": "raw",
   "metadata": {},
   "source": [
    "Question3:\n",
    "A movie theater charges different ticket prices depending on a person’s age. If a person is under the age of 3, the ticket is free; if they are between 3 and 12, the ticket is $10; and if they are over age 12, the ticket is $15. Write a loop in which you ask users their age, and then tell them the cost of their movie ticket."
   ]
  },
  {
   "cell_type": "code",
   "execution_count": 12,
   "metadata": {},
   "outputs": [
    {
     "name": "stdout",
     "output_type": "stream",
     "text": [
      "Please enter your age first or press 0 to quit : 4\n",
      "Your ticket cost is $10 \n",
      "Please enter your age first or press 0 to quit : 0\n",
      "***The end***\n"
     ]
    }
   ],
   "source": [
    "user=1\n",
    "while True:\n",
    "    user=int(input(\"Please enter your age first or press 0 to quit : \"))\n",
    "    if user==0:\n",
    "        print(\"***The end***\")\n",
    "        break\n",
    "    elif user==3:\n",
    "        print(\"Your ticket is free ! \")\n",
    "    elif user==3 or user<=12:\n",
    "        print(\"Your ticket cost is $10 \")\n",
    "    elif user>12:\n",
    "        print(\"Your ticket cost is $15 \")"
   ]
  },
  {
   "cell_type": "raw",
   "metadata": {},
   "source": [
    "Question4:\n",
    "Write a function called favorite_book() that accepts one parameter, title. The function should print a message, such as One of my favorite books is Alice in Wonderland. Call the function, making sure to include a book title as an argument in the function call."
   ]
  },
  {
   "cell_type": "code",
   "execution_count": 13,
   "metadata": {},
   "outputs": [],
   "source": [
    "def favourite_book(title):\n",
    "    print(f\"One of my favorite book is {title}\")"
   ]
  },
  {
   "cell_type": "code",
   "execution_count": 14,
   "metadata": {},
   "outputs": [
    {
     "name": "stdout",
     "output_type": "stream",
     "text": [
      "One of my favorite book is Alice in Wonderland\n"
     ]
    }
   ],
   "source": [
    "favourite_book(\"Alice in Wonderland\")"
   ]
  },
  {
   "cell_type": "raw",
   "metadata": {},
   "source": [
    "Question5:\n",
    "Guess the number game\n",
    "Write a program which randomly generate a number between 1 to 30 and ask the user in input field to guess the correct number. Give three chances to user guess the number and also give hint to user if hidden number is greater or smaller than the number he given to input field.\n"
   ]
  },
  {
   "cell_type": "code",
   "execution_count": 15,
   "metadata": {},
   "outputs": [
    {
     "name": "stdout",
     "output_type": "stream",
     "text": [
      "Guess the Number Game\n",
      "---------------------\n",
      "I have a number in mind from 1 to 30\n",
      "First Guess [1/30] : 22\n",
      "Try Again with a Larger Number\n",
      "Second Guess [1/30] : 26\n",
      "Try Again with a Smaller Number\n",
      "Last Guess [1/30] : 25\n",
      "We Have a Looser!!!!\n",
      "The Correct Number was :  23\n"
     ]
    }
   ],
   "source": [
    "from random import randint\n",
    "r = randint(1, 30)\n",
    "print(\"Guess the Number Game\")\n",
    "print(\"---------------------\")\n",
    "print(\"I have a number in mind from 1 to 30\")\n",
    "t = [\"First\", \"Second\", \"Last\"]\n",
    "for c in range(3):\n",
    "    n = int(input(t[c]+\" Guess [1/30] : \"))\n",
    "    if n == r:\n",
    "        print(\"We Have a Winner!!!!\")\n",
    "        print(\"Yes! It was :\", r)\n",
    "        quit()\n",
    "    elif n > r and c < 2:\n",
    "        print(\"Try Again with a Smaller Number\")\n",
    "    elif n < r and c < 2:\n",
    "        print(\"Try Again with a Larger Number\")\n",
    "print(\"We Have a Looser!!!!\")\n",
    "print(\"The Correct Number was : \", r)\n"
   ]
  },
  {
   "cell_type": "code",
   "execution_count": null,
   "metadata": {},
   "outputs": [],
   "source": []
  }
 ],
 "metadata": {
  "kernelspec": {
   "display_name": "Python 3",
   "language": "python",
   "name": "python3"
  },
  "language_info": {
   "codemirror_mode": {
    "name": "ipython",
    "version": 3
   },
   "file_extension": ".py",
   "mimetype": "text/x-python",
   "name": "python",
   "nbconvert_exporter": "python",
   "pygments_lexer": "ipython3",
   "version": "3.7.3"
  }
 },
 "nbformat": 4,
 "nbformat_minor": 2
}
