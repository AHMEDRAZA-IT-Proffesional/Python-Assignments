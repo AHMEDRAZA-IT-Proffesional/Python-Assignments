{
 "cells": [
  {
   "cell_type": "raw",
   "metadata": {},
   "source": [
    "\n",
    "Question:1\n",
    "Write a Python function to calculate the factorial of a number (a non-negative\n",
    "integer). The function accepts the number as an argument."
   ]
  },
  {
   "cell_type": "code",
   "execution_count": 1,
   "metadata": {},
   "outputs": [
    {
     "data": {
      "text/plain": [
       "120"
      ]
     },
     "execution_count": 1,
     "metadata": {},
     "output_type": "execute_result"
    }
   ],
   "source": [
    "def fac(num):\n",
    "    import math\n",
    "    if num<=0:\n",
    "        print(\"Please enter positive integer only \")\n",
    "    else:\n",
    "        return math.factorial(num)\n",
    "fac(5)        "
   ]
  },
  {
   "cell_type": "raw",
   "metadata": {},
   "source": [
    "Question:2\n",
    "Write a Python function that accepts a string and calculate the number of upper\n",
    "case letters and lower case letters."
   ]
  },
  {
   "cell_type": "code",
   "execution_count": 2,
   "metadata": {},
   "outputs": [
    {
     "name": "stdout",
     "output_type": "stream",
     "text": [
      "Total no of lower case characters are 7\n",
      "Total no of upper case characters are 2\n"
     ]
    }
   ],
   "source": [
    "def case(string):\n",
    "    Lower = 0\n",
    "    Upper = 0\n",
    "    for e in string:\n",
    "        if e.islower():\n",
    "            Lower= Lower + 1\n",
    "        elif e.isupper():\n",
    "            Upper= Upper +1\n",
    "    print(f\"Total no of lower case characters are {Lower}\")\n",
    "    print(f\"Total no of upper case characters are {Upper}\")\n",
    "case(\"Ahemd Raza\")"
   ]
  },
  {
   "cell_type": "raw",
   "metadata": {},
   "source": [
    "Question:3\n",
    "Write a Python function to print the even numbers from a given list."
   ]
  },
  {
   "cell_type": "code",
   "execution_count": 3,
   "metadata": {},
   "outputs": [
    {
     "name": "stdout",
     "output_type": "stream",
     "text": [
      "22  Is a even number\n",
      "62  Is a even number\n",
      "12  Is a even number\n"
     ]
    }
   ],
   "source": [
    "def even(list):\n",
    "    for i in list:\n",
    "        if i%2==0:\n",
    "            print(f\"{i}  Is a even number\")\n",
    "        else:\n",
    "            pass\n",
    "even([1,23,22,43,445,62,12,67])"
   ]
  },
  {
   "cell_type": "raw",
   "metadata": {},
   "source": [
    "Question:4\n",
    "Write a Python function that checks whether a passed string is palindrome or not.\n",
    "Note: A palindrome is a word, phrase, or sequence that reads the same\n",
    "backward as forward, e.g., madam"
   ]
  },
  {
   "cell_type": "code",
   "execution_count": 5,
   "metadata": {},
   "outputs": [
    {
     "name": "stdout",
     "output_type": "stream",
     "text": [
      "False\n"
     ]
    }
   ],
   "source": [
    "def isPalindrome(string):\n",
    "    left_pos = 0\n",
    "    right_pos = len(string) - 1\n",
    "    while right_pos >= left_pos:\n",
    "        if not string[left_pos] == string[right_pos]:\n",
    "            return False\n",
    "    left_pos += 1\n",
    "    right_pos -= 1   \n",
    "    return True\n",
    "print(isPalindrome('ahmed')) "
   ]
  },
  {
   "cell_type": "code",
   "execution_count": null,
   "metadata": {},
   "outputs": [],
   "source": []
  },
  {
   "cell_type": "raw",
   "metadata": {},
   "source": [
    "Question:5\n",
    "Write a Python function that takes a number as a parameter and check the\n",
    "number is prime or not."
   ]
  },
  {
   "cell_type": "code",
   "execution_count": 7,
   "metadata": {},
   "outputs": [
    {
     "name": "stdout",
     "output_type": "stream",
     "text": [
      "Its not a prime number\n"
     ]
    }
   ],
   "source": [
    "def test_prime(n):\n",
    "    if n==1:\n",
    "        return False\n",
    "    elif n==2:\n",
    "        return True;\n",
    "    else:\n",
    "        for x in range(2,n):\n",
    "            if n%x==0:\n",
    "                return \"Its not a prime number\"\n",
    "        return \"Its a prime number\"            \n",
    "print(test_prime(9))"
   ]
  },
  {
   "cell_type": "raw",
   "metadata": {},
   "source": [
    "Question: 6\n",
    "Suppose a customer is shopping in a market and you need to print all the items\n",
    "which user bought from market.\n",
    "Write a function which accepts the multiple arguments of user shopping list and\n",
    "print all the items which user bought from market."
   ]
  },
  {
   "cell_type": "code",
   "execution_count": 4,
   "metadata": {},
   "outputs": [
    {
     "name": "stdout",
     "output_type": "stream",
     "text": [
      "Karahi masala\n",
      "ketchup\n",
      "noodles\n",
      "onion\n",
      "tomatto\n",
      "bringle\n",
      "potatoes\n"
     ]
    }
   ],
   "source": [
    "def shop(*items):\n",
    "    for j in items:\n",
    "        print(j)\n",
    "shop(\"Karahi masala\",\"ketchup\",\"noodles\")\n",
    "shop(\"onion\",\"tomatto\",\"bringle\",\"potatoes\")"
   ]
  },
  {
   "cell_type": "code",
   "execution_count": null,
   "metadata": {},
   "outputs": [],
   "source": []
  }
 ],
 "metadata": {
  "kernelspec": {
   "display_name": "Python 3",
   "language": "python",
   "name": "python3"
  },
  "language_info": {
   "codemirror_mode": {
    "name": "ipython",
    "version": 3
   },
   "file_extension": ".py",
   "mimetype": "text/x-python",
   "name": "python",
   "nbconvert_exporter": "python",
   "pygments_lexer": "ipython3",
   "version": "3.7.3"
  }
 },
 "nbformat": 4,
 "nbformat_minor": 2
}
