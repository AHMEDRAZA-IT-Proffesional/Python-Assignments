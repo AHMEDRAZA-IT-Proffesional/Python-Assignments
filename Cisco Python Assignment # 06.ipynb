{
 "cells": [
  {
   "cell_type": "raw",
   "metadata": {},
   "source": [
    "Question 1:\n",
    "Define Object Oriented Programming Language?"
   ]
  },
  {
   "cell_type": "raw",
   "metadata": {},
   "source": [
    "Object-oriented programming is one of the\n",
    "most effective approaches to writing software. In object-oriented programming you\n",
    "write classes that represent real-world things\n",
    "and situations, and you create objects based on these\n",
    "classes. When you write a class, you define the general\n",
    "behavior that a whole category of objects can have. "
   ]
  },
  {
   "cell_type": "raw",
   "metadata": {},
   "source": [
    "Question 2:\n",
    "List down the Benefits of OOP?"
   ]
  },
  {
   "cell_type": "raw",
   "metadata": {},
   "source": [
    "When you create individual objects from the class, each object is automatically equipped with the general behavior; you can then give each object whatever unique traits you desire.s. You can  specify the kind of information that can be stored in\n",
    "instances, and you can  define actions that can be taken with these instances.You can  also write classes that extend the functionality of existing classes, so similar classes can share code efficiently. You’ll store your classes in modules and import classes written by other programmers into your own program files.Classes also make life easier for you and the other programmers you’ll need to work with as you take on increasingly complex challenges. Whenyou and other programmers write code based on the same kind of logic,you’ll be able to understand each other’s work. Your programs will make\n",
    "sense to many collaborators, allowing everyone to accomplish more."
   ]
  },
  {
   "cell_type": "raw",
   "metadata": {},
   "source": [
    "Question 3:\n",
    "Differentiate between function and method?"
   ]
  },
  {
   "cell_type": "raw",
   "metadata": {},
   "source": [
    "Fuctions can be called outside of the class and performs a particular task as well as  can be treated as a single body,independent of the classes.\n",
    "While on the other hand  methods are same as functions except that the methods are categorized according to the classes they belong I.e. the car class methods will be different than the methods of the human class respectively."
   ]
  },
  {
   "cell_type": "raw",
   "metadata": {},
   "source": [
    "Question 4:\n",
    "Define the following terms:\n",
    "1. Class\n",
    "2. Object\n",
    "3. Attribute\n",
    "4. Behavior"
   ]
  },
  {
   "cell_type": "raw",
   "metadata": {},
   "source": [
    "Classes are special construct that represent real-world things and situations, and you create objects based on these classes. When you write a class, you define the general behavior that a whole category of objects can have. \n",
    "object ,also known as instances ,are  automatically equipped with the general behavior of whole clas which they belongs .like their copies . you can then give each object  the name you desire.\n",
    "Attributes are the variables of the class ,for example a car class have attributes like its colour ,seating capacity,model etc.\n",
    "Behaviours are methods which belong to the class in which they had defined like speedup,stop etc."
   ]
  },
  {
   "cell_type": "raw",
   "metadata": {},
   "source": [
    "Question 5:\n",
    "Write a code in python in which create a class named it Car which\n",
    "have 5 attributes such like (model, color and name etc.) and 3\n",
    "methods. And create 5 object instance from that class."
   ]
  },
  {
   "cell_type": "code",
   "execution_count": 1,
   "metadata": {},
   "outputs": [],
   "source": [
    "class Car():\n",
    "    def __init__(self,name):\n",
    "        self.Name = name\n",
    "        self.Model = 2019\n",
    "        self.Colour = \"White\"\n",
    "        self.seating_capacity = 4\n",
    "        self.Average_Speed = \"80km/h\"\n",
    "    def Speed_up(self):\n",
    "        print(f\"Please increase the speed of the {self.Name} by  10km/h  \")\n",
    "    def Speed_Down(self):\n",
    "        print(f\"Please Decrease the speed of the {self.Name}\")\n",
    "    def Break(self):\n",
    "        print(f\"Please stop the {self.Name} within the the 5 seconds safely \")\n"
   ]
  },
  {
   "cell_type": "code",
   "execution_count": 2,
   "metadata": {},
   "outputs": [
    {
     "name": "stdout",
     "output_type": "stream",
     "text": [
      "Please increase the speed of the Suzuki by  10km/h  \n"
     ]
    }
   ],
   "source": [
    "New_Car1 = Car(\"Suzuki\")\n",
    "New_Car1.Speed_up()"
   ]
  },
  {
   "cell_type": "code",
   "execution_count": 3,
   "metadata": {},
   "outputs": [
    {
     "name": "stdout",
     "output_type": "stream",
     "text": [
      "Please Decrease the speed of the Carolla\n"
     ]
    }
   ],
   "source": [
    "New_Car2 = Car(\"Carolla\")\n",
    "New_Car2.Speed_Down()"
   ]
  },
  {
   "cell_type": "code",
   "execution_count": 4,
   "metadata": {},
   "outputs": [
    {
     "name": "stdout",
     "output_type": "stream",
     "text": [
      "Please stop the Fortunar within the the 5 seconds safely \n"
     ]
    }
   ],
   "source": [
    "New_Car3 = Car(\"Fortunar\")\n",
    "New_Car3.Break()"
   ]
  },
  {
   "cell_type": "code",
   "execution_count": 6,
   "metadata": {},
   "outputs": [
    {
     "data": {
      "text/plain": [
       "'80km/h'"
      ]
     },
     "execution_count": 6,
     "metadata": {},
     "output_type": "execute_result"
    }
   ],
   "source": [
    "New_Car4 = Car(\"Mercedes\")\n",
    "New_Car4.Average_Speed"
   ]
  },
  {
   "cell_type": "code",
   "execution_count": 8,
   "metadata": {},
   "outputs": [
    {
     "data": {
      "text/plain": [
       "2019"
      ]
     },
     "execution_count": 8,
     "metadata": {},
     "output_type": "execute_result"
    }
   ],
   "source": [
    "New_Car5 = Car(\"Parado\")\n",
    "New_Car5.Model"
   ]
  }
 ],
 "metadata": {
  "kernelspec": {
   "display_name": "Python 3",
   "language": "python",
   "name": "python3"
  },
  "language_info": {
   "codemirror_mode": {
    "name": "ipython",
    "version": 3
   },
   "file_extension": ".py",
   "mimetype": "text/x-python",
   "name": "python",
   "nbconvert_exporter": "python",
   "pygments_lexer": "ipython3",
   "version": "3.7.3"
  }
 },
 "nbformat": 4,
 "nbformat_minor": 2
}
